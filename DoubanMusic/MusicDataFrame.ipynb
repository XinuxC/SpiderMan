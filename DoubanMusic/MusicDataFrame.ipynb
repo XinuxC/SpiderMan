{
 "cells": [
  {
   "cell_type": "code",
   "execution_count": 47,
   "metadata": {
    "collapsed": true
   },
   "outputs": [],
   "source": [
    "import pandas as pd\n",
    "import matplotlib.pyplot as plt\n",
    "from pandas import DataFrame\n",
    "import numpy as np\n",
    "%matplotlib inline"
   ]
  },
  {
   "cell_type": "code",
   "execution_count": 25,
   "metadata": {
    "collapsed": false
   },
   "outputs": [],
   "source": [
    "df = pd.read_csv('MusicTop250.csv',encoding='gbk')"
   ]
  },
  {
   "cell_type": "code",
   "execution_count": 26,
   "metadata": {
    "collapsed": false
   },
   "outputs": [
    {
     "data": {
      "text/html": [
       "<div>\n",
       "<table border=\"1\" class=\"dataframe\">\n",
       "  <thead>\n",
       "    <tr style=\"text-align: right;\">\n",
       "      <th></th>\n",
       "      <th>name</th>\n",
       "      <th>singer</th>\n",
       "      <th>time</th>\n",
       "      <th>type</th>\n",
       "    </tr>\n",
       "  </thead>\n",
       "  <tbody>\n",
       "    <tr>\n",
       "      <th>0</th>\n",
       "      <td>We Sing. We Dance. We Steal Things.</td>\n",
       "      <td>Jason Mraz</td>\n",
       "      <td>2008/5/13</td>\n",
       "      <td>民谣</td>\n",
       "    </tr>\n",
       "    <tr>\n",
       "      <th>1</th>\n",
       "      <td>Viva La Vida</td>\n",
       "      <td>Coldplay</td>\n",
       "      <td>2008/6/17</td>\n",
       "      <td>摇滚</td>\n",
       "    </tr>\n",
       "    <tr>\n",
       "      <th>2</th>\n",
       "      <td>华丽的冒险</td>\n",
       "      <td>陈绮贞</td>\n",
       "      <td>2005/9/23</td>\n",
       "      <td>流行</td>\n",
       "    </tr>\n",
       "    <tr>\n",
       "      <th>3</th>\n",
       "      <td>范特西</td>\n",
       "      <td>周杰伦</td>\n",
       "      <td>2001/9/14</td>\n",
       "      <td>流行</td>\n",
       "    </tr>\n",
       "    <tr>\n",
       "      <th>4</th>\n",
       "      <td>後。青春期的詩</td>\n",
       "      <td>五月天</td>\n",
       "      <td>2008/10/23</td>\n",
       "      <td>摇滚</td>\n",
       "    </tr>\n",
       "  </tbody>\n",
       "</table>\n",
       "</div>"
      ],
      "text/plain": [
       "                                  name      singer        time type\n",
       "0  We Sing. We Dance. We Steal Things.  Jason Mraz   2008/5/13   民谣\n",
       "1                         Viva La Vida    Coldplay   2008/6/17   摇滚\n",
       "2                                华丽的冒险         陈绮贞   2005/9/23   流行\n",
       "3                                  范特西         周杰伦   2001/9/14   流行\n",
       "4                              後。青春期的詩         五月天  2008/10/23   摇滚"
      ]
     },
     "execution_count": 26,
     "metadata": {},
     "output_type": "execute_result"
    }
   ],
   "source": [
    "df.head()"
   ]
  },
  {
   "cell_type": "code",
   "execution_count": 27,
   "metadata": {
    "collapsed": false
   },
   "outputs": [
    {
     "data": {
      "text/html": [
       "<div>\n",
       "<table border=\"1\" class=\"dataframe\">\n",
       "  <thead>\n",
       "    <tr style=\"text-align: right;\">\n",
       "      <th></th>\n",
       "      <th>name</th>\n",
       "      <th>singer</th>\n",
       "      <th>time</th>\n",
       "      <th>type</th>\n",
       "    </tr>\n",
       "  </thead>\n",
       "  <tbody>\n",
       "    <tr>\n",
       "      <th>0</th>\n",
       "      <td>We Sing. We Dance. We Steal Things.</td>\n",
       "      <td>Jason Mraz</td>\n",
       "      <td>2008/5/13</td>\n",
       "      <td>民谣</td>\n",
       "    </tr>\n",
       "    <tr>\n",
       "      <th>1</th>\n",
       "      <td>Viva La Vida</td>\n",
       "      <td>Coldplay</td>\n",
       "      <td>2008/6/17</td>\n",
       "      <td>摇滚</td>\n",
       "    </tr>\n",
       "    <tr>\n",
       "      <th>2</th>\n",
       "      <td>华丽的冒险</td>\n",
       "      <td>陈绮贞</td>\n",
       "      <td>2005/9/23</td>\n",
       "      <td>流行</td>\n",
       "    </tr>\n",
       "    <tr>\n",
       "      <th>3</th>\n",
       "      <td>范特西</td>\n",
       "      <td>周杰伦</td>\n",
       "      <td>2001/9/14</td>\n",
       "      <td>流行</td>\n",
       "    </tr>\n",
       "    <tr>\n",
       "      <th>4</th>\n",
       "      <td>後。青春期的詩</td>\n",
       "      <td>五月天</td>\n",
       "      <td>2008/10/23</td>\n",
       "      <td>摇滚</td>\n",
       "    </tr>\n",
       "  </tbody>\n",
       "</table>\n",
       "</div>"
      ],
      "text/plain": [
       "                                  name      singer        time type\n",
       "0  We Sing. We Dance. We Steal Things.  Jason Mraz   2008/5/13   民谣\n",
       "1                         Viva La Vida    Coldplay   2008/6/17   摇滚\n",
       "2                                华丽的冒险         陈绮贞   2005/9/23   流行\n",
       "3                                  范特西         周杰伦   2001/9/14   流行\n",
       "4                              後。青春期的詩         五月天  2008/10/23   摇滚"
      ]
     },
     "execution_count": 27,
     "metadata": {},
     "output_type": "execute_result"
    }
   ],
   "source": [
    "df.head()"
   ]
  },
  {
   "cell_type": "code",
   "execution_count": null,
   "metadata": {
    "collapsed": true
   },
   "outputs": [],
   "source": []
  }
 ],
 "metadata": {
  "anaconda-cloud": {},
  "kernelspec": {
   "display_name": "Python [conda root]",
   "language": "python",
   "name": "conda-root-py"
  },
  "language_info": {
   "codemirror_mode": {
    "name": "ipython",
    "version": 3
   },
   "file_extension": ".py",
   "mimetype": "text/x-python",
   "name": "python",
   "nbconvert_exporter": "python",
   "pygments_lexer": "ipython3",
   "version": "3.5.2"
  }
 },
 "nbformat": 4,
 "nbformat_minor": 1
}
